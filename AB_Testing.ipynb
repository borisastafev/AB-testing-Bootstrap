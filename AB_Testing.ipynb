{
 "cells": [
  {
   "cell_type": "markdown",
   "id": "5df145d5",
   "metadata": {},
   "source": [
    "# import"
   ]
  },
  {
   "cell_type": "code",
   "execution_count": 1,
   "id": "ac260d1d",
   "metadata": {},
   "outputs": [],
   "source": [
    "import pandas as pd\n",
    "import numpy as np\n",
    "import matplotlib.pyplot as plt\n",
    "import seaborn as sns\n",
    "import random\n",
    "from scipy import stats\n",
    "from math import ceil\n",
    "import bootstrapped.bootstrap as bs\n",
    "import bootstrapped.stats_functions as bs_stats\n",
    "import bootstrapped.compare_functions as bs_compare\n",
    "import statsmodels.stats.api as sms\n",
    "import statsmodels.stats.proportion as proportion\n",
    "import statsmodels.stats.power as smp\n",
    "import warnings\n",
    "warnings.filterwarnings(\"ignore\")\n",
    "\n",
    "%matplotlib inline\n"
   ]
  },
  {
   "cell_type": "code",
   "execution_count": 2,
   "id": "d11721dc",
   "metadata": {},
   "outputs": [
    {
     "name": "stdout",
     "output_type": "stream",
     "text": [
      "shape: (294478, 5)\n"
     ]
    },
    {
     "data": {
      "text/html": [
       "<div>\n",
       "<style scoped>\n",
       "    .dataframe tbody tr th:only-of-type {\n",
       "        vertical-align: middle;\n",
       "    }\n",
       "\n",
       "    .dataframe tbody tr th {\n",
       "        vertical-align: top;\n",
       "    }\n",
       "\n",
       "    .dataframe thead th {\n",
       "        text-align: right;\n",
       "    }\n",
       "</style>\n",
       "<table border=\"1\" class=\"dataframe\">\n",
       "  <thead>\n",
       "    <tr style=\"text-align: right;\">\n",
       "      <th></th>\n",
       "      <th>user_id</th>\n",
       "      <th>timestamp</th>\n",
       "      <th>group</th>\n",
       "      <th>landing_page</th>\n",
       "      <th>converted</th>\n",
       "    </tr>\n",
       "  </thead>\n",
       "  <tbody>\n",
       "    <tr>\n",
       "      <th>0</th>\n",
       "      <td>851104</td>\n",
       "      <td>2017-01-21 22:11:48.556739</td>\n",
       "      <td>control</td>\n",
       "      <td>old_page</td>\n",
       "      <td>0</td>\n",
       "    </tr>\n",
       "    <tr>\n",
       "      <th>1</th>\n",
       "      <td>804228</td>\n",
       "      <td>2017-01-12 08:01:45.159739</td>\n",
       "      <td>control</td>\n",
       "      <td>old_page</td>\n",
       "      <td>0</td>\n",
       "    </tr>\n",
       "    <tr>\n",
       "      <th>2</th>\n",
       "      <td>661590</td>\n",
       "      <td>2017-01-11 16:55:06.154213</td>\n",
       "      <td>treatment</td>\n",
       "      <td>new_page</td>\n",
       "      <td>0</td>\n",
       "    </tr>\n",
       "    <tr>\n",
       "      <th>3</th>\n",
       "      <td>853541</td>\n",
       "      <td>2017-01-08 18:28:03.143765</td>\n",
       "      <td>treatment</td>\n",
       "      <td>new_page</td>\n",
       "      <td>0</td>\n",
       "    </tr>\n",
       "    <tr>\n",
       "      <th>4</th>\n",
       "      <td>864975</td>\n",
       "      <td>2017-01-21 01:52:26.210827</td>\n",
       "      <td>control</td>\n",
       "      <td>old_page</td>\n",
       "      <td>1</td>\n",
       "    </tr>\n",
       "  </tbody>\n",
       "</table>\n",
       "</div>"
      ],
      "text/plain": [
       "   user_id                   timestamp      group landing_page  converted\n",
       "0   851104  2017-01-21 22:11:48.556739    control     old_page          0\n",
       "1   804228  2017-01-12 08:01:45.159739    control     old_page          0\n",
       "2   661590  2017-01-11 16:55:06.154213  treatment     new_page          0\n",
       "3   853541  2017-01-08 18:28:03.143765  treatment     new_page          0\n",
       "4   864975  2017-01-21 01:52:26.210827    control     old_page          1"
      ]
     },
     "execution_count": 2,
     "metadata": {},
     "output_type": "execute_result"
    }
   ],
   "source": [
    "df = pd.read_csv('ab_data.csv')\n",
    "print(f'shape: {df.shape}')\n",
    "df.head()"
   ]
  },
  {
   "cell_type": "markdown",
   "id": "e54f4766",
   "metadata": {},
   "source": [
    "посмотрим, сколько длился данный эксперимент:"
   ]
  },
  {
   "cell_type": "code",
   "execution_count": 3,
   "id": "a933f803",
   "metadata": {},
   "outputs": [],
   "source": [
    "df.timestamp = df.timestamp.apply(lambda x: x.split(' ')[0])"
   ]
  },
  {
   "cell_type": "code",
   "execution_count": 4,
   "id": "79a6d649",
   "metadata": {},
   "outputs": [
    {
     "data": {
      "text/plain": [
       "Timedelta('22 days 00:00:00')"
      ]
     },
     "execution_count": 4,
     "metadata": {},
     "output_type": "execute_result"
    }
   ],
   "source": [
    "df['timestamp'] = pd.to_datetime(df['timestamp'], format=\"%Y/%m/%d\")\n",
    "df['timestamp'].max()  - df['timestamp'].min()"
   ]
  },
  {
   "cell_type": "markdown",
   "id": "d185ada9",
   "metadata": {},
   "source": [
    "Timedelta('22 days 00:00:00')"
   ]
  },
  {
   "cell_type": "markdown",
   "id": "89e4a61f",
   "metadata": {},
   "source": [
    "Уберём тех пользователей, которые есть одновременно в обеих группах, так как нам нужны и этого требует стат.критерии - независимость рассматриваемых групп"
   ]
  },
  {
   "cell_type": "code",
   "execution_count": 5,
   "id": "a43f3535",
   "metadata": {},
   "outputs": [
    {
     "name": "stdout",
     "output_type": "stream",
     "text": [
      "количество человек, которые есть и в контрольной группе и тестовой : 3894\n"
     ]
    }
   ],
   "source": [
    "double_person = df['user_id'].value_counts()\n",
    "users_to_drop = double_person[double_person>1].index\n",
    "print(f'количество человек, которые есть и в контрольной группе и тестовой : {len(users_to_drop)}')"
   ]
  },
  {
   "cell_type": "markdown",
   "id": "40d46e67",
   "metadata": {},
   "source": [
    "количество человек, которые есть и в контрольной группе и тестовой : 3894"
   ]
  },
  {
   "cell_type": "code",
   "execution_count": 6,
   "id": "0f49f7c7",
   "metadata": {},
   "outputs": [
    {
     "data": {
      "text/plain": [
       "(286690, 5)"
      ]
     },
     "execution_count": 6,
     "metadata": {},
     "output_type": "execute_result"
    }
   ],
   "source": [
    "df = df[~df['user_id'].isin(users_to_drop)]\n",
    "df.shape"
   ]
  },
  {
   "cell_type": "code",
   "execution_count": 7,
   "id": "09931185",
   "metadata": {},
   "outputs": [
    {
     "data": {
      "text/html": [
       "<div>\n",
       "<style scoped>\n",
       "    .dataframe tbody tr th:only-of-type {\n",
       "        vertical-align: middle;\n",
       "    }\n",
       "\n",
       "    .dataframe tbody tr th {\n",
       "        vertical-align: top;\n",
       "    }\n",
       "\n",
       "    .dataframe thead th {\n",
       "        text-align: right;\n",
       "    }\n",
       "</style>\n",
       "<table border=\"1\" class=\"dataframe\">\n",
       "  <thead>\n",
       "    <tr style=\"text-align: right;\">\n",
       "      <th>landing_page</th>\n",
       "      <th>new_page</th>\n",
       "      <th>old_page</th>\n",
       "    </tr>\n",
       "    <tr>\n",
       "      <th>group</th>\n",
       "      <th></th>\n",
       "      <th></th>\n",
       "    </tr>\n",
       "  </thead>\n",
       "  <tbody>\n",
       "    <tr>\n",
       "      <th>control</th>\n",
       "      <td>0</td>\n",
       "      <td>143293</td>\n",
       "    </tr>\n",
       "    <tr>\n",
       "      <th>treatment</th>\n",
       "      <td>143397</td>\n",
       "      <td>0</td>\n",
       "    </tr>\n",
       "  </tbody>\n",
       "</table>\n",
       "</div>"
      ],
      "text/plain": [
       "landing_page  new_page  old_page\n",
       "group                           \n",
       "control              0    143293\n",
       "treatment       143397         0"
      ]
     },
     "execution_count": 7,
     "metadata": {},
     "output_type": "execute_result"
    }
   ],
   "source": [
    "# посмотрим на кол-во людей в каждой из групп\n",
    "pd.crosstab(df.group, df.landing_page)"
   ]
  },
  {
   "cell_type": "code",
   "execution_count": 8,
   "id": "f2c4d3cb",
   "metadata": {},
   "outputs": [
    {
     "data": {
      "text/html": [
       "<div>\n",
       "<style scoped>\n",
       "    .dataframe tbody tr th:only-of-type {\n",
       "        vertical-align: middle;\n",
       "    }\n",
       "\n",
       "    .dataframe tbody tr th {\n",
       "        vertical-align: top;\n",
       "    }\n",
       "\n",
       "    .dataframe thead th {\n",
       "        text-align: right;\n",
       "    }\n",
       "</style>\n",
       "<table border=\"1\" class=\"dataframe\">\n",
       "  <thead>\n",
       "    <tr style=\"text-align: right;\">\n",
       "      <th></th>\n",
       "      <th>conversion</th>\n",
       "      <th>std</th>\n",
       "      <th>std error</th>\n",
       "      <th>count</th>\n",
       "    </tr>\n",
       "    <tr>\n",
       "      <th>group</th>\n",
       "      <th></th>\n",
       "      <th></th>\n",
       "      <th></th>\n",
       "      <th></th>\n",
       "    </tr>\n",
       "  </thead>\n",
       "  <tbody>\n",
       "    <tr>\n",
       "      <th>control</th>\n",
       "      <td>0.120173</td>\n",
       "      <td>0.325165</td>\n",
       "      <td>0.000859</td>\n",
       "      <td>143293</td>\n",
       "    </tr>\n",
       "    <tr>\n",
       "      <th>treatment</th>\n",
       "      <td>0.118726</td>\n",
       "      <td>0.323467</td>\n",
       "      <td>0.000854</td>\n",
       "      <td>143397</td>\n",
       "    </tr>\n",
       "  </tbody>\n",
       "</table>\n",
       "</div>"
      ],
      "text/plain": [
       "           conversion       std  std error   count\n",
       "group                                             \n",
       "control      0.120173  0.325165   0.000859  143293\n",
       "treatment    0.118726  0.323467   0.000854  143397"
      ]
     },
     "execution_count": 8,
     "metadata": {},
     "output_type": "execute_result"
    }
   ],
   "source": [
    "# сгруппируем по старому/новому дизайну и применим к колонке conversed агрегирующие фун-иии\n",
    "se = lambda x: stats.sem(x, ddof=0)\n",
    "summury_stats = df.groupby('group')['converted'].agg(['mean', 'std', se, 'count'])\n",
    "summury_stats.rename(columns={'<lambda_0>': 'std error', 'mean': 'conversion'}, inplace=True)\n",
    "summury_stats"
   ]
  },
  {
   "cell_type": "markdown",
   "id": "9e62953a",
   "metadata": {},
   "source": [
    "# Chisquared-test for conversion"
   ]
  },
  {
   "cell_type": "code",
   "execution_count": 9,
   "id": "edb2c162",
   "metadata": {},
   "outputs": [
    {
     "name": "stdout",
     "output_type": "stream",
     "text": [
      "chi-statistic : 1.427\n",
      "p-value : 0.232\n",
      "различия между двумя группами статистически не значимы, следовательно конверсии двух групп не различаются\n"
     ]
    }
   ],
   "source": [
    "def chi_test(df):\n",
    "    \n",
    "    control = df[df.group=='control']['converted']\n",
    "    treatment = df[df.group=='treatment']['converted']\n",
    "    success = [control.sum(), treatment.sum()]\n",
    "    counts = [control.count(), treatment.count()]\n",
    "    \n",
    "    chi_stat, pvalue, table = proportion.proportions_chisquare(count=success, nobs=counts)\n",
    "    \n",
    "    print(f'chi-statistic : {round(chi_stat,3)}\\np-value : {round(pvalue, 3)}')\n",
    "    if pvalue>0.01:\n",
    "        print('различия между двумя группами статистически не значимы, следовательно конверсии двух групп не различаются')\n",
    "    else:\n",
    "        print('различия между двумя группами статистически значимы, следовательно конверсии двух групп различаются')\n",
    "\n",
    "    \n",
    "    return round(pvalue, 3)\n",
    "\n",
    "\n",
    "pvalue = chi_test(df)\n",
    "\n",
    "\n"
   ]
  },
  {
   "cell_type": "markdown",
   "id": "ef55015e",
   "metadata": {},
   "source": [
    " - chi-statistic : 1.427\n",
    " - p-value : 0.232\n",
    " - различия между двумя группами статистически не значимы, следовательно конверсии двух групп не различаются"
   ]
  },
  {
   "cell_type": "markdown",
   "id": "cf8c72fb",
   "metadata": {},
   "source": [
    "# Creating synthetic column 'first_buy'"
   ]
  },
  {
   "cell_type": "markdown",
   "id": "e3e5da96",
   "metadata": {},
   "source": [
    "Ниже я создам искусственно колонку, в которой будут данные о первой покупке пользователей.\n",
    "Я моделирую ситацию, в которой мы проверяем не только конверсию как таковую, но ещё и средний чек в обоих группах и далее\n",
    "комплексно принимаю решение - какой дизайн лучше для бизнеса\n",
    "Причём данные для контрольной и тестовой групп будут отличаться cредним и дисперсией.\n",
    "Данные будут распределены нормально."
   ]
  },
  {
   "cell_type": "code",
   "execution_count": 10,
   "id": "7db3ab8c",
   "metadata": {},
   "outputs": [],
   "source": [
    "control_user = df[(df.group=='control') & (df.converted==1)]['user_id']\n",
    "treat_user = df[(df.group=='treatment') & (df.converted==1)]['user_id']\n",
    "\n",
    "contr_df = pd.DataFrame({'user_id' : control_user}).reset_index(drop=True)\n",
    "contr_df.index.name = 'index'\n",
    "treat_df = pd.DataFrame({'user_id' : treat_user}).reset_index(drop=True)\n",
    "treat_df.index.name = 'index'\n",
    "\n",
    "len_contr = len(contr_df)\n",
    "len_treat = len(treat_df)\n"
   ]
  },
  {
   "cell_type": "code",
   "execution_count": 11,
   "id": "9444de9f",
   "metadata": {},
   "outputs": [],
   "source": [
    "random.seed(11)\n",
    "control_first_buy = np.random.normal(650,200,(len_contr,1))\n",
    "treatment_first_buy = np.random.normal(660,180,(len_treat,1))\n",
    "control_first_buy = control_first_buy.reshape(-1)\n",
    "treatment_first_buy = treatment_first_buy.reshape(-1)\n",
    "\n",
    "control_df = pd.DataFrame({'first_buy' : control_first_buy, 'group' : 'control', 'converted':1}).reset_index(drop=True)\n",
    "control_df.index.name = 'index'\n",
    "treatment_df = pd.DataFrame({'first_buy' : treatment_first_buy, 'group' : 'treatment', 'converted':1}).reset_index(drop=True)\n",
    "treatment_df.index.name = 'index'\n",
    "\n",
    "\n",
    "control_df = pd.concat([contr_df,control_df], axis=1)\n",
    "treatment_df = pd.concat([treat_df,treatment_df], axis=1)\n",
    "\n",
    "union_df = pd.concat([control_df, treatment_df])\n"
   ]
  },
  {
   "cell_type": "code",
   "execution_count": 12,
   "id": "5c942d14",
   "metadata": {},
   "outputs": [
    {
     "data": {
      "text/html": [
       "<div>\n",
       "<style scoped>\n",
       "    .dataframe tbody tr th:only-of-type {\n",
       "        vertical-align: middle;\n",
       "    }\n",
       "\n",
       "    .dataframe tbody tr th {\n",
       "        vertical-align: top;\n",
       "    }\n",
       "\n",
       "    .dataframe thead th {\n",
       "        text-align: right;\n",
       "    }\n",
       "</style>\n",
       "<table border=\"1\" class=\"dataframe\">\n",
       "  <thead>\n",
       "    <tr style=\"text-align: right;\">\n",
       "      <th></th>\n",
       "      <th>user_id</th>\n",
       "      <th>first_buy</th>\n",
       "      <th>group</th>\n",
       "      <th>converted</th>\n",
       "    </tr>\n",
       "    <tr>\n",
       "      <th>index</th>\n",
       "      <th></th>\n",
       "      <th></th>\n",
       "      <th></th>\n",
       "      <th></th>\n",
       "    </tr>\n",
       "  </thead>\n",
       "  <tbody>\n",
       "    <tr>\n",
       "      <th>0</th>\n",
       "      <td>864975</td>\n",
       "      <td>632</td>\n",
       "      <td>control</td>\n",
       "      <td>1</td>\n",
       "    </tr>\n",
       "    <tr>\n",
       "      <th>1</th>\n",
       "      <td>644214</td>\n",
       "      <td>508</td>\n",
       "      <td>control</td>\n",
       "      <td>1</td>\n",
       "    </tr>\n",
       "    <tr>\n",
       "      <th>2</th>\n",
       "      <td>913579</td>\n",
       "      <td>805</td>\n",
       "      <td>control</td>\n",
       "      <td>1</td>\n",
       "    </tr>\n",
       "    <tr>\n",
       "      <th>3</th>\n",
       "      <td>831737</td>\n",
       "      <td>415</td>\n",
       "      <td>control</td>\n",
       "      <td>1</td>\n",
       "    </tr>\n",
       "    <tr>\n",
       "      <th>4</th>\n",
       "      <td>862225</td>\n",
       "      <td>594</td>\n",
       "      <td>control</td>\n",
       "      <td>1</td>\n",
       "    </tr>\n",
       "    <tr>\n",
       "      <th>...</th>\n",
       "      <td>...</td>\n",
       "      <td>...</td>\n",
       "      <td>...</td>\n",
       "      <td>...</td>\n",
       "    </tr>\n",
       "    <tr>\n",
       "      <th>17020</th>\n",
       "      <td>653524</td>\n",
       "      <td>823</td>\n",
       "      <td>treatment</td>\n",
       "      <td>1</td>\n",
       "    </tr>\n",
       "    <tr>\n",
       "      <th>17021</th>\n",
       "      <td>919617</td>\n",
       "      <td>715</td>\n",
       "      <td>treatment</td>\n",
       "      <td>1</td>\n",
       "    </tr>\n",
       "    <tr>\n",
       "      <th>17022</th>\n",
       "      <td>757646</td>\n",
       "      <td>649</td>\n",
       "      <td>treatment</td>\n",
       "      <td>1</td>\n",
       "    </tr>\n",
       "    <tr>\n",
       "      <th>17023</th>\n",
       "      <td>838593</td>\n",
       "      <td>303</td>\n",
       "      <td>treatment</td>\n",
       "      <td>1</td>\n",
       "    </tr>\n",
       "    <tr>\n",
       "      <th>17024</th>\n",
       "      <td>733871</td>\n",
       "      <td>672</td>\n",
       "      <td>treatment</td>\n",
       "      <td>1</td>\n",
       "    </tr>\n",
       "  </tbody>\n",
       "</table>\n",
       "<p>34245 rows × 4 columns</p>\n",
       "</div>"
      ],
      "text/plain": [
       "       user_id  first_buy      group  converted\n",
       "index                                          \n",
       "0       864975        632    control          1\n",
       "1       644214        508    control          1\n",
       "2       913579        805    control          1\n",
       "3       831737        415    control          1\n",
       "4       862225        594    control          1\n",
       "...        ...        ...        ...        ...\n",
       "17020   653524        823  treatment          1\n",
       "17021   919617        715  treatment          1\n",
       "17022   757646        649  treatment          1\n",
       "17023   838593        303  treatment          1\n",
       "17024   733871        672  treatment          1\n",
       "\n",
       "[34245 rows x 4 columns]"
      ]
     },
     "execution_count": 12,
     "metadata": {},
     "output_type": "execute_result"
    }
   ],
   "source": [
    "union_df['first_buy'] = union_df['first_buy'].apply(lambda x: ceil(x))\n",
    "union_df"
   ]
  },
  {
   "cell_type": "code",
   "execution_count": 13,
   "id": "7ce8f78e",
   "metadata": {},
   "outputs": [],
   "source": [
    "# сбрасываем не нужные нам колонки\n",
    "df.drop(['timestamp', 'landing_page'], axis=1, inplace=True)"
   ]
  },
  {
   "cell_type": "code",
   "execution_count": 14,
   "id": "4cbb8251",
   "metadata": {
    "scrolled": true
   },
   "outputs": [
    {
     "data": {
      "text/html": [
       "<div>\n",
       "<style scoped>\n",
       "    .dataframe tbody tr th:only-of-type {\n",
       "        vertical-align: middle;\n",
       "    }\n",
       "\n",
       "    .dataframe tbody tr th {\n",
       "        vertical-align: top;\n",
       "    }\n",
       "\n",
       "    .dataframe thead th {\n",
       "        text-align: right;\n",
       "    }\n",
       "</style>\n",
       "<table border=\"1\" class=\"dataframe\">\n",
       "  <thead>\n",
       "    <tr style=\"text-align: right;\">\n",
       "      <th></th>\n",
       "      <th>user_id</th>\n",
       "      <th>group</th>\n",
       "      <th>converted</th>\n",
       "      <th>first_buy</th>\n",
       "    </tr>\n",
       "  </thead>\n",
       "  <tbody>\n",
       "    <tr>\n",
       "      <th>0</th>\n",
       "      <td>851104</td>\n",
       "      <td>control</td>\n",
       "      <td>0</td>\n",
       "      <td>NaN</td>\n",
       "    </tr>\n",
       "    <tr>\n",
       "      <th>1</th>\n",
       "      <td>804228</td>\n",
       "      <td>control</td>\n",
       "      <td>0</td>\n",
       "      <td>NaN</td>\n",
       "    </tr>\n",
       "    <tr>\n",
       "      <th>2</th>\n",
       "      <td>661590</td>\n",
       "      <td>treatment</td>\n",
       "      <td>0</td>\n",
       "      <td>NaN</td>\n",
       "    </tr>\n",
       "    <tr>\n",
       "      <th>3</th>\n",
       "      <td>853541</td>\n",
       "      <td>treatment</td>\n",
       "      <td>0</td>\n",
       "      <td>NaN</td>\n",
       "    </tr>\n",
       "    <tr>\n",
       "      <th>4</th>\n",
       "      <td>864975</td>\n",
       "      <td>control</td>\n",
       "      <td>1</td>\n",
       "      <td>632.0</td>\n",
       "    </tr>\n",
       "  </tbody>\n",
       "</table>\n",
       "</div>"
      ],
      "text/plain": [
       "   user_id      group  converted  first_buy\n",
       "0   851104    control          0        NaN\n",
       "1   804228    control          0        NaN\n",
       "2   661590  treatment          0        NaN\n",
       "3   853541  treatment          0        NaN\n",
       "4   864975    control          1      632.0"
      ]
     },
     "execution_count": 14,
     "metadata": {},
     "output_type": "execute_result"
    }
   ],
   "source": [
    "df_full = pd.merge(df, union_df, how='left')\n",
    "df_full.head()"
   ]
  },
  {
   "cell_type": "markdown",
   "id": "5423e798",
   "metadata": {},
   "source": [
    "# Bootstrap and AOV mertic"
   ]
  },
  {
   "cell_type": "markdown",
   "id": "8d1d2ca0",
   "metadata": {},
   "source": [
    "Создаём два массива с первыми покупками у контрольной и тестовой группы, знач-я NaN сбрасываем, так как нам нужно выявить разницу (если она есть) между средним чеком в обоих группах.\n",
    "\n",
    "Для этого будем использовать метод Bootstrap, который будет множество раз делать подвыборки из контрольной и тестовой групп с возвращеним, далее сравниваем средние значения групп(т.е. средний чек) между собой (мы будем искать их разницу), и наконец полученную разницу сохранять в массив.\n",
    "\n",
    "После всего этого мы можем построить Bootstrap-распределение полученных знач-й и для этого распределения построить доверительный интервал (99 %). Если в данный интвервал попадает 0 - то значимых различий в среднем чеке нету у рассматриваемых групп.\n"
   ]
  },
  {
   "cell_type": "code",
   "execution_count": 15,
   "id": "a3a17b24",
   "metadata": {},
   "outputs": [],
   "source": [
    "control_first_buy = df_full[df_full.group=='control']['first_buy'].dropna().values\n",
    "treat_first_buy = df_full[df_full.group=='treatment']['first_buy'].dropna().values"
   ]
  },
  {
   "cell_type": "code",
   "execution_count": 16,
   "id": "7cef266b",
   "metadata": {},
   "outputs": [],
   "source": [
    "random.seed(11)\n",
    "boot_res = bs.bootstrap_ab(test = treat_first_buy,\n",
    "                           ctrl = control_first_buy,\n",
    "                           stat_func = bs_stats.mean,\n",
    "                           compare_func = bs_compare.difference,\n",
    "                           return_distribution = True)"
   ]
  },
  {
   "cell_type": "code",
   "execution_count": 17,
   "id": "10bae821",
   "metadata": {},
   "outputs": [
    {
     "name": "stdout",
     "output_type": "stream",
     "text": [
      "границы нашего доверительного интервала : [ 5.34920582 16.08172225]\n"
     ]
    }
   ],
   "source": [
    "borders = np.percentile(boot_res, [0.5, 99.5])\n",
    "print(f'границы нашего доверительного интервала : {borders}')"
   ]
  },
  {
   "cell_type": "markdown",
   "id": "0288f488",
   "metadata": {},
   "source": [
    "границы нашего доверительного интервала : [-1.3924406   8.88182697]"
   ]
  },
  {
   "cell_type": "code",
   "execution_count": 18,
   "id": "8f8741be",
   "metadata": {},
   "outputs": [
    {
     "data": {
      "image/png": "[encoded data removed]",
      "text/plain": [
       "<Figure size 864x576 with 1 Axes>"
      ]
     },
     "metadata": {
      "needs_background": "light"
     },
     "output_type": "display_data"
    }
   ],
   "source": [
    "plt.figure(figsize=(12,8))\n",
    "sns.distplot(boot_res)\n",
    "plt.title('Bootstrap distribution of average check difference')\n",
    "plt.vlines(0, ymin=0, ymax=0.2, linestyles='--', color='red')\n",
    "plt.vlines(borders, ymin=0, ymax=0.2, linestyles='--', color='grey', label='CI 99%')\n",
    "plt.legend()\n",
    "plt.show()"
   ]
  },
  {
   "cell_type": "markdown",
   "id": "d086a098",
   "metadata": {},
   "source": [
    "## Как видим, в наш 99% доверительной интвервал Bootstrap-распределения знач-е 0 не входит и, сделовательно, мы можем говорить, что присутствует статистическая значимая разница в средних чеках контрольной и тестовой групп - в данном примере видим, что показатели среднего чека тестовой группы выше и мы можем говорить, что это разница заключена в определённый интервал и мы можем ошибиться в 1% наблюдений\n"
   ]
  },
  {
   "cell_type": "markdown",
   "id": "c7f33e8d",
   "metadata": {},
   "source": [
    "##  Какие выводы мы можем сделать насчёт того - оставлять нам новый дизайн или нет? Если рассматривать в качестве метрики - конверсию в покупку, то статитистически значимых различий у нас нет, а вот если мы рассматриваем средний чек, то видим, что он выше  в тестовой группе. Получается с такой же конверсией как и была, бизнес стал зарабатывать больше с каждого клиента в тествой группе. Важно комплексно оценивать полученные результаты, а не основывать предположения исходя только из одной метрики. Следовательно оставляем новый дизайн и делаем деньги)\n"
   ]
  },
  {
   "cell_type": "markdown",
   "id": "8d764bf2",
   "metadata": {},
   "source": [
    "# Мощность теста\n",
    "Это вероятность увидеть различия там, где они действительно есть.\n",
    "Вычислим мощность для нашего теста конверсии (в нашем случает для стат.критерия хи-квадрат)"
   ]
  },
  {
   "cell_type": "code",
   "execution_count": 19,
   "id": "9fa60e88",
   "metadata": {},
   "outputs": [
    {
     "data": {
      "text/html": [
       "<div>\n",
       "<style scoped>\n",
       "    .dataframe tbody tr th:only-of-type {\n",
       "        vertical-align: middle;\n",
       "    }\n",
       "\n",
       "    .dataframe tbody tr th {\n",
       "        vertical-align: top;\n",
       "    }\n",
       "\n",
       "    .dataframe thead th {\n",
       "        text-align: right;\n",
       "    }\n",
       "</style>\n",
       "<table border=\"1\" class=\"dataframe\">\n",
       "  <thead>\n",
       "    <tr style=\"text-align: right;\">\n",
       "      <th></th>\n",
       "      <th>conversion</th>\n",
       "      <th>std</th>\n",
       "      <th>std error</th>\n",
       "      <th>count</th>\n",
       "    </tr>\n",
       "    <tr>\n",
       "      <th>group</th>\n",
       "      <th></th>\n",
       "      <th></th>\n",
       "      <th></th>\n",
       "      <th></th>\n",
       "    </tr>\n",
       "  </thead>\n",
       "  <tbody>\n",
       "    <tr>\n",
       "      <th>control</th>\n",
       "      <td>0.120173</td>\n",
       "      <td>0.325165</td>\n",
       "      <td>0.000859</td>\n",
       "      <td>143293</td>\n",
       "    </tr>\n",
       "    <tr>\n",
       "      <th>treatment</th>\n",
       "      <td>0.118726</td>\n",
       "      <td>0.323467</td>\n",
       "      <td>0.000854</td>\n",
       "      <td>143397</td>\n",
       "    </tr>\n",
       "  </tbody>\n",
       "</table>\n",
       "</div>"
      ],
      "text/plain": [
       "           conversion       std  std error   count\n",
       "group                                             \n",
       "control      0.120173  0.325165   0.000859  143293\n",
       "treatment    0.118726  0.323467   0.000854  143397"
      ]
     },
     "execution_count": 19,
     "metadata": {},
     "output_type": "execute_result"
    }
   ],
   "source": [
    "# вспомним, как выглядит наша конверсия в обоих группах\n",
    "summury_stats"
   ]
  },
  {
   "cell_type": "code",
   "execution_count": 20,
   "id": "5063a936",
   "metadata": {},
   "outputs": [],
   "source": [
    "chipower = smp.GofChisquarePower()\n",
    "conversion_control = summury_stats['conversion'][0]\n",
    "treat_control = summury_stats['conversion'][1]\n",
    "\n",
    "# так как группы немного отличаются по размеру наблюдений - возьмём размер наименьшей группы в качестве размера наблюдений\n",
    "nobs = min(summury_stats['count'])\n"
   ]
  },
  {
   "cell_type": "code",
   "execution_count": 21,
   "id": "255a410c",
   "metadata": {},
   "outputs": [],
   "source": [
    "# далее вычислим effect size\n",
    "\n",
    "def effect_size_chi(p0,p1):\n",
    "    return np.sqrt((p0-p1)**2 / p0)\n"
   ]
  },
  {
   "cell_type": "markdown",
   "id": "d89730b9",
   "metadata": {},
   "source": [
    "У любого стат.критерия аналитически связаны между собой размер эффекта, выборки, уровень значимости и мощность.\n",
    "Поэтому, зная три параметра - всегда можно найти четвёртый.\n",
    "Найдём мощность:"
   ]
  },
  {
   "cell_type": "code",
   "execution_count": 22,
   "id": "6e257b77",
   "metadata": {},
   "outputs": [
    {
     "data": {
      "text/plain": [
       "0.6525901752696832"
      ]
     },
     "execution_count": 22,
     "metadata": {},
     "output_type": "execute_result"
    }
   ],
   "source": [
    "chipower.solve_power(effect_size=effect_size_chi(conversion_control, treat_control),\n",
    "                     nobs=nobs,\n",
    "                     alpha=pvalue,\n",
    "                     power=None)\n",
    "\n"
   ]
  },
  {
   "cell_type": "markdown",
   "id": "ad6681f0",
   "metadata": {},
   "source": [
    "0.6525901752696832"
   ]
  },
  {
   "cell_type": "markdown",
   "id": "d8d8a7e4",
   "metadata": {},
   "source": [
    "## Мощность 0.65 - это достаточно слабый результат, по сравнению с общепринятыми стандартами: 0.8 и выше. Это значит, мы плохо будем определять различия там, где они действительно есть и будем часто отвергать нулевую гипотезу, где это не нужно"
   ]
  },
  {
   "cell_type": "markdown",
   "id": "bd30f254",
   "metadata": {},
   "source": [
    "# Вычислим количество наблюдений, необходимых для получения желаемого уровня мощности"
   ]
  },
  {
   "cell_type": "code",
   "execution_count": 23,
   "id": "9cd9a62f",
   "metadata": {},
   "outputs": [
    {
     "name": "stdout",
     "output_type": "stream",
     "text": [
      "Требуемое кол-во наблюдений для эксперимента, чтобы обеспечить мощность теста = 0.8: 900943\n"
     ]
    }
   ],
   "source": [
    "# тут параметр устанавливаем 0.05, как желаемый - поскольку мы проводим теоритические вычисления и мы не знаем, \n",
    "# какой достигаемый уровень значимости у нас получится в эксперименте\n",
    "power =0.8\n",
    "size_for_one_group = chipower.solve_power(effect_size=effect_size_chi(conversion_control, treat_control),\n",
    "                     nobs=None,\n",
    "                     alpha=0.05,\n",
    "                     power=power)\n",
    "print(f'Требуемое кол-во наблюдений для эксперимента, чтобы обеспечить мощность теста = 0.8: {ceil(2*size_for_one_group)}')"
   ]
  },
  {
   "cell_type": "markdown",
   "id": "1648bb8c",
   "metadata": {},
   "source": [
    "Требуемое кол-во наблюдений для эксперимента, чтобы обеспечить мощность теста = 0.8: 900943"
   ]
  },
  {
   "cell_type": "markdown",
   "id": "57b9515c",
   "metadata": {},
   "source": [
    "# Summary\n",
    "\n",
    "Чтобы набрать требуемое кол-во наблюдений нам понадобится ЕЩЁ 47 дней ожидания эксперимента:\n",
    "текущий эксперимент длится 22 дня и 286690 наблюдений, а нам нужно (x)дней и 900943 наблюдений\n",
    "\n",
    "С моей точки зрения набирать ещё наблюдения, чтобы повысить мощность теста - не кажется рациональным,\n",
    "разница между конверсиями столь мала, что мы можем её и не увидеть при заданом уровне значимости и мощности теста (минимальный обнаруживаемый эффект). В данном случае мы смотрим со стороны бизнеса и так как средний чек с высокой степенью вероятности выше в тестовой группе, при равной конверсии, то мы выбираем новый дизайн сайта."
   ]
  }
 ],
 "metadata": {
  "kernelspec": {
   "display_name": "Python 3",
   "language": "python",
   "name": "python3"
  },
  "language_info": {
   "codemirror_mode": {
    "name": "ipython",
    "version": 3
   },
   "file_extension": ".py",
   "mimetype": "text/x-python",
   "name": "python",
   "nbconvert_exporter": "python",
   "pygments_lexer": "ipython3",
   "version": "3.8.8"
  }
 },
 "nbformat": 4,
 "nbformat_minor": 5
}
